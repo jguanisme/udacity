{
 "cells": [
  {
   "cell_type": "markdown",
   "metadata": {},
   "source": [
    "# Machine Learning Engineer Nanodegree\n",
    "## Model Evaluation & Validation\n",
    "## Project 1: Predicting Boston Housing Prices\n",
    "\n",
    "Welcome to the first project of the Machine Learning Engineer Nanodegree! In this notebook, some template code has already been provided for you, and you will need to implement additional functionality to successfully complete this project. You will not need to modify the included code beyond what is requested. Sections that begin with **'Implementation'** in the header indicate that the following block of code will require additional functionality which you must provide. Instructions will be provided for each section and the specifics of the implementation are marked in the code block with a 'TODO' statement. Please be sure to read the instructions carefully!\n",
    "\n",
    "In addition to implementing code, there will be questions that you must answer which relate to the project and your implementation. Each section where you will answer a question is preceded by a **'Question X'** header. Carefully read each question and provide thorough answers in the following text boxes that begin with **'Answer:'**. Your project submission will be evaluated based on your answers to each of the questions and the implementation you provide.  \n",
    "\n",
    ">**Note:** Code and Markdown cells can be executed using the **Shift + Enter** keyboard shortcut. In addition, Markdown cells can be edited by typically double-clicking the cell to enter edit mode."
   ]
  },
  {
   "cell_type": "markdown",
   "metadata": {},
   "source": [
    "## Getting Started\n",
    "In this project, you will evaluate the performance and predictive power of a model that has been trained and tested on data collected from homes in suburbs of Boston, Massachusetts. A model trained on this data that is seen as a *good fit* could then be used to make certain predictions about a home — in particular, its monetary value. This model would prove to be invaluable for someone like a real estate agent who could make use of such information on a daily basis.\n",
    "\n",
    "The dataset for this project originates from the [UCI Machine Learning Repository](https://archive.ics.uci.edu/ml/datasets/Housing). The Boston housing data was collected in 1978 and each of the 506 entries represent aggregated data about 14 features for homes from various suburbs in Boston, Massachusetts. For the purposes of this project, the following preprocessing steps have been made to the dataset:\n",
    "- 16 data points have an `'MEDV'` value of 50.0. These data points likely contain **missing or censored values** and have been removed.\n",
    "- 1 data point has an `'RM'` value of 8.78. This data point can be considered an **outlier** and has been removed.\n",
    "- The features `'RM'`, `'LSTAT'`, `'PTRATIO'`, and `'MEDV'` are essential. The remaining **non-relevant features** have been excluded.\n",
    "- The feature `'MEDV'` has been **multiplicatively scaled** to account for 35 years of market inflation.\n",
    "\n",
    "Run the code cell below to load the Boston housing dataset, along with a few of the necessary Python libraries required for this project. You will know the dataset loaded successfully if the size of the dataset is reported."
   ]
  },
  {
   "cell_type": "code",
   "execution_count": 1,
   "metadata": {
    "collapsed": false
   },
   "outputs": [
    {
     "name": "stdout",
     "output_type": "stream",
     "text": [
      "Boston housing dataset has 489 data points with 4 variables each.\n"
     ]
    }
   ],
   "source": [
    "# Import libraries necessary for this project\n",
    "import numpy as np\n",
    "import pandas as pd\n",
    "import visuals as vs # Supplementary code\n",
    "from sklearn.cross_validation import ShuffleSplit\n",
    "\n",
    "# Pretty display for notebooks\n",
    "%matplotlib inline\n",
    "\n",
    "# Load the Boston housing dataset\n",
    "data = pd.read_csv('housing.csv')\n",
    "prices = data['MEDV']\n",
    "features = data.drop('MEDV', axis = 1)\n",
    "    \n",
    "# Success\n",
    "print \"Boston housing dataset has {} data points with {} variables each.\".format(*data.shape)"
   ]
  },
  {
   "cell_type": "markdown",
   "metadata": {},
   "source": [
    "## Data Exploration\n",
    "In this first section of this project, you will make a cursory investigation about the Boston housing data and provide your observations. Familiarizing yourself with the data through an explorative process is a fundamental practice to help you better understand and justify your results.\n",
    "\n",
    "Since the main goal of this project is to construct a working model which has the capability of predicting the value of houses, we will need to separate the dataset into **features** and the **target variable**. The **features**, `'RM'`, `'LSTAT'`, and `'PTRATIO'`, give us quantitative information about each data point. The **target variable**, `'MEDV'`, will be the variable we seek to predict. These are stored in `features` and `prices`, respectively."
   ]
  },
  {
   "cell_type": "markdown",
   "metadata": {},
   "source": [
    "### Implementation: Calculate Statistics\n",
    "For your very first coding implementation, you will calculate descriptive statistics about the Boston housing prices. Since `numpy` has already been imported for you, use this library to perform the necessary calculations. These statistics will be extremely important later on to analyze various prediction results from the constructed model.\n",
    "\n",
    "In the code cell below, you will need to implement the following:\n",
    "- Calculate the minimum, maximum, mean, median, and standard deviation of `'MEDV'`, which is stored in `prices`.\n",
    "  - Store each calculation in their respective variable."
   ]
  },
  {
   "cell_type": "code",
   "execution_count": 3,
   "metadata": {
    "collapsed": false
   },
   "outputs": [
    {
     "name": "stdout",
     "output_type": "stream",
     "text": [
      "Statistics for Boston housing dataset:\n",
      "\n",
      "Minimum price: $105,000.00\n",
      "Maximum price: $1,024,800.00\n",
      "Mean price: $454,342.94\n",
      "Median price $438,900.00\n",
      "Standard deviation of prices: $165,171.13\n"
     ]
    }
   ],
   "source": [
    "# TODO: Minimum price of the data\n",
    "minimum_price = np.min(prices)\n",
    "\n",
    "# TODO: Maximum price of the data\n",
    "maximum_price = np.max(prices)\n",
    "\n",
    "# TODO: Mean price of the data\n",
    "mean_price = np.mean(prices)\n",
    "\n",
    "# TODO: Median price of the data\n",
    "median_price = np.median(prices)\n",
    "\n",
    "# TODO: Standard deviation of prices of the data\n",
    "std_price = np.std(prices)\n",
    "\n",
    "# Show the calculated statistics\n",
    "print \"Statistics for Boston housing dataset:\\n\"\n",
    "print \"Minimum price: ${:,.2f}\".format(minimum_price)\n",
    "print \"Maximum price: ${:,.2f}\".format(maximum_price)\n",
    "print \"Mean price: ${:,.2f}\".format(mean_price)\n",
    "print \"Median price ${:,.2f}\".format(median_price)\n",
    "print \"Standard deviation of prices: ${:,.2f}\".format(std_price)"
   ]
  },
  {
   "cell_type": "markdown",
   "metadata": {},
   "source": [
    "### Question 1 - Feature Observation\n",
    "As a reminder, we are using three features from the Boston housing dataset: `'RM'`, `'LSTAT'`, and `'PTRATIO'`. For each data point (neighborhood):\n",
    "- `'RM'` is the average number of rooms among homes in the neighborhood.\n",
    "- `'LSTAT'` is the percentage of homeowners in the neighborhood considered \"lower class\" (working poor).\n",
    "- `'PTRATIO'` is the ratio of students to teachers in primary and secondary schools in the neighborhood.\n",
    "\n",
    "_Using your intuition, for each of the three features above, do you think that an increase in the value of that feature would lead to an **increase** in the value of `'MEDV'` or a **decrease** in the value of `'MEDV'`? Justify your answer for each._  \n",
    "**Hint:** Would you expect a home that has an `'RM'` value of 6 be worth more or less than a home that has an `'RM'` value of 7?"
   ]
  },
  {
   "cell_type": "markdown",
   "metadata": {},
   "source": [
    "1,the increase of 'RM' must lead to an increase of 'MEDV', because the more 'RM' the more house area.\n",
    "2,the increase of 'LSTAT' must lead to an increase of 'MEDV', because the people in lower class can not afford to much more house price\n",
    "3,the increase of 'PTRATIO' must lead to an decrease of 'MEDV', because the more teachers means the homeowners can afford more expenditure that infer that they can afford to high price of house "
   ]
  },
  {
   "cell_type": "markdown",
   "metadata": {},
   "source": [
    "----\n",
    "\n",
    "## Developing a Model\n",
    "In this second section of the project, you will develop the tools and techniques necessary for a model to make a prediction. Being able to make accurate evaluations of each model's performance through the use of these tools and techniques helps to greatly reinforce the confidence in your predictions."
   ]
  },
  {
   "cell_type": "markdown",
   "metadata": {},
   "source": [
    "### Implementation: Define a Performance Metric\n",
    "It is difficult to measure the quality of a given model without quantifying its performance over training and testing. This is typically done using some type of performance metric, whether it is through calculating some type of error, the goodness of fit, or some other useful measurement. For this project, you will be calculating the [*coefficient of determination*](http://stattrek.com/statistics/dictionary.aspx?definition=coefficient_of_determination), R<sup>2</sup>, to quantify your model's performance. The coefficient of determination for a model is a useful statistic in regression analysis, as it often describes how \"good\" that model is at making predictions. \n",
    "\n",
    "The values for R<sup>2</sup> range from 0 to 1, which captures the percentage of squared correlation between the predicted and actual values of the **target variable**. A model with an R<sup>2</sup> of 0 always fails to predict the target variable, whereas a model with an R<sup>2</sup> of 1 perfectly predicts the target variable. Any value between 0 and 1 indicates what percentage of the target variable, using this model, can be explained by the **features**. *A model can be given a negative R<sup>2</sup> as well, which indicates that the model is no better than one that naively predicts the mean of the target variable.*\n",
    "\n",
    "For the `performance_metric` function in the code cell below, you will need to implement the following:\n",
    "- Use `r2_score` from `sklearn.metrics` to perform a performance calculation between `y_true` and `y_predict`.\n",
    "- Assign the performance score to the `score` variable."
   ]
  },
  {
   "cell_type": "code",
   "execution_count": 12,
   "metadata": {
    "collapsed": false
   },
   "outputs": [],
   "source": [
    "# TODO: Import 'r2_score'\n",
    "\n",
    "def performance_metric(y_true, y_predict):\n",
    "    \"\"\" Calculates and returns the performance score between \n",
    "        true and predicted values based on the metric chosen. \"\"\"\n",
    "    \n",
    "    # TODO: Calculate the performance score between 'y_true' and 'y_predict'\n",
    "    from sklearn.metrics import r2_score\n",
    "    score = r2_score(y_true, y_predict)\n",
    "    from sklearn.metrics import mean_absolute_error\n",
    "    print mean_absolute_error(y_true, y_predict)\n",
    "    from sklearn.metrics import mean_squared_error\n",
    "    print mean_squared_error(y_true, y_predict)\n",
    "    # Return the score\n",
    "    return score"
   ]
  },
  {
   "cell_type": "markdown",
   "metadata": {},
   "source": [
    "### Question 2 - Goodness of Fit\n",
    "Assume that a dataset contains five data points and a model made the following predictions for the target variable:\n",
    "\n",
    "| True Value | Prediction |\n",
    "| :-------------: | :--------: |\n",
    "| 3.0 | 2.5 |\n",
    "| -0.5 | 0.0 |\n",
    "| 2.0 | 2.1 |\n",
    "| 7.0 | 7.8 |\n",
    "| 4.2 | 5.3 |\n",
    "*Would you consider this model to have successfully captured the variation of the target variable? Why or why not?* \n",
    "\n",
    "Run the code cell below to use the `performance_metric` function and calculate this model's coefficient of determination."
   ]
  },
  {
   "cell_type": "code",
   "execution_count": 13,
   "metadata": {
    "collapsed": false
   },
   "outputs": [
    {
     "name": "stdout",
     "output_type": "stream",
     "text": [
      "0.6\n",
      "0.472\n",
      "Model has a coefficient of determination, R^2, of 0.923.\n"
     ]
    }
   ],
   "source": [
    "# Calculate the performance of this model\n",
    "score = performance_metric([3, -0.5, 2, 7, 4.2], [2.5, 0.0, 2.1, 7.8, 5.3])\n",
    "print \"Model has a coefficient of determination, R^2, of {:.3f}.\".format(score)"
   ]
  },
  {
   "cell_type": "markdown",
   "metadata": {},
   "source": [
    "it is not a successfully model.because the training data is too small, so it can not represent the real relations.the mean absolute error and mean squared error are all too great "
   ]
  },
  {
   "cell_type": "markdown",
   "metadata": {},
   "source": [
    "### Implementation: Shuffle and Split Data\n",
    "Your next implementation requires that you take the Boston housing dataset and split the data into training and testing subsets. Typically, the data is also shuffled into a random order when creating the training and testing subsets to remove any bias in the ordering of the dataset.\n",
    "\n",
    "For the code cell below, you will need to implement the following:\n",
    "- Use `train_test_split` from `sklearn.cross_validation` to shuffle and split the `features` and `prices` data into training and testing sets.\n",
    "  - Split the data into 80% training and 20% testing.\n",
    "  - Set the `random_state` for `train_test_split` to a value of your choice. This ensures results are consistent.\n",
    "- Assign the train and testing splits to `X_train`, `X_test`, `y_train`, and `y_test`."
   ]
  },
  {
   "cell_type": "code",
   "execution_count": 14,
   "metadata": {
    "collapsed": false
   },
   "outputs": [
    {
     "name": "stdout",
     "output_type": "stream",
     "text": [
      "Training and testing split was successful.\n"
     ]
    }
   ],
   "source": [
    "# TODO: Import 'train_test_split'\n",
    "from sklearn import cross_validation\n",
    "# TODO: Shuffle and split the data into training and testing subsets\n",
    "X_train, X_test, y_train, y_test = cross_validation.train_test_split(features, prices, test_size=0.4, random_state=0)\n",
    "\n",
    "\n",
    "# Success\n",
    "print \"Training and testing split was successful.\""
   ]
  },
  {
   "cell_type": "markdown",
   "metadata": {},
   "source": [
    "### Question 3 - Training and Testing\n",
    "*What is the benefit to splitting a dataset into some ratio of training and testing subsets for a learning algorithm?*  \n",
    "**Hint:** What could go wrong with not having a way to test your model?"
   ]
  },
  {
   "cell_type": "markdown",
   "metadata": {},
   "source": [
    "the model may have bais or variation, so it needs a seprat testing data to do estimatation, and it is a important way to prevent overfit."
   ]
  },
  {
   "cell_type": "markdown",
   "metadata": {},
   "source": [
    "----\n",
    "\n",
    "## Analyzing Model Performance\n",
    "In this third section of the project, you'll take a look at several models' learning and testing performances on various subsets of training data. Additionally, you'll investigate one particular algorithm with an increasing `'max_depth'` parameter on the full training set to observe how model complexity affects performance. Graphing your model's performance based on varying criteria can be beneficial in the analysis process, such as visualizing behavior that may not have been apparent from the results alone."
   ]
  },
  {
   "cell_type": "markdown",
   "metadata": {},
   "source": [
    "### Learning Curves\n",
    "The following code cell produces four graphs for a decision tree model with different maximum depths. Each graph visualizes the learning curves of the model for both training and testing as the size of the training set is increased. Note that the shaded region of a learning curve denotes the uncertainty of that curve (measured as the standard deviation). The model is scored on both the training and testing sets using R<sup>2</sup>, the coefficient of determination.  \n",
    "\n",
    "Run the code cell below and use these graphs to answer the following question."
   ]
  },
  {
   "cell_type": "code",
   "execution_count": 15,
   "metadata": {
    "collapsed": false,
    "scrolled": false
   },
   "outputs": [
    {
     "data": {
      "image/png": "[encoded data removed]",
      "text/plain": [
       "<matplotlib.figure.Figure at 0xac902e8>"
      ]
     },
     "metadata": {},
     "output_type": "display_data"
    }
   ],
   "source": [
    "# Produce learning curves for varying training set sizes and maximum depths\n",
    "vs.ModelLearning(features, prices)"
   ]
  },
  {
   "cell_type": "markdown",
   "metadata": {},
   "source": [
    "### Question 4 - Learning the Data\n",
    "*Choose one of the graphs above and state the maximum depth for the model. What happens to the score of the training curve as more training points are added? What about the testing curve? Would having more training points benefit the model?*  \n",
    "**Hint:** Are the learning curves converging to particular scores?"
   ]
  },
  {
   "cell_type": "markdown",
   "metadata": {},
   "source": [
    "the maximum depth is 3. the more training porints are added, the learning curve are more convergency, arfter the learning curve has been converged, the training points does not benefit the momdel any more. "
   ]
  },
  {
   "cell_type": "markdown",
   "metadata": {},
   "source": [
    "### Complexity Curves\n",
    "The following code cell produces a graph for a decision tree model that has been trained and validated on the training data using different maximum depths. The graph produces two complexity curves — one for training and one for validation. Similar to the **learning curves**, the shaded regions of both the complexity curves denote the uncertainty in those curves, and the model is scored on both the training and validation sets using the `performance_metric` function.  \n",
    "\n",
    "Run the code cell below and use this graph to answer the following two questions."
   ]
  },
  {
   "cell_type": "code",
   "execution_count": 16,
   "metadata": {
    "collapsed": false
   },
   "outputs": [
    {
     "data": {
      "image/png": "[encoded data removed]",
      "text/plain": [
       "<matplotlib.figure.Figure at 0xc741ac8>"
      ]
     },
     "metadata": {},
     "output_type": "display_data"
    }
   ],
   "source": [
    "vs.ModelComplexity(X_train, y_train)"
   ]
  },
  {
   "cell_type": "markdown",
   "metadata": {},
   "source": [
    "### Question 5 - Bias-Variance Tradeoff\n",
    "*When the model is trained with a maximum depth of 1, does the model suffer from high bias or from high variance? How about when the model is trained with a maximum depth of 10? What visual cues in the graph justify your conclusions?*  \n",
    "**Hint:** How do you know when a model is suffering from high bias or high variance?"
   ]
  },
  {
   "cell_type": "markdown",
   "metadata": {},
   "source": [
    "the model has high bias when the maximum depth is 1, and the high variance when the maximum depth is 10. the testing score curve is far away from the training score means high variance, the absolute value of testing and training score is too small means high bias."
   ]
  },
  {
   "cell_type": "markdown",
   "metadata": {},
   "source": [
    "### Question 6 - Best-Guess Optimal Model\n",
    "*Which maximum depth do you think results in a model that best generalizes to unseen data? What intuition lead you to this answer?*"
   ]
  },
  {
   "cell_type": "markdown",
   "metadata": {},
   "source": [
    "the best maximum depth is 4, the Complexity Curves show the distance of two curves is increase at max depth is 4, and the validation score is going down at max depth is 4."
   ]
  },
  {
   "cell_type": "markdown",
   "metadata": {},
   "source": [
    "-----\n",
    "\n",
    "## Evaluating Model Performance\n",
    "In this final section of the project, you will construct a model and make a prediction on the client's feature set using an optimized model from `fit_model`."
   ]
  },
  {
   "cell_type": "markdown",
   "metadata": {},
   "source": [
    "### Question 7 - Grid Search\n",
    "*What is the grid search technique and how it can be applied to optimize a learning algorithm?*"
   ]
  },
  {
   "cell_type": "markdown",
   "metadata": {},
   "source": [
    "the grid search technique is a way to find estimator parameters. so the program try the different parameters to training the model by BFS algrithum."
   ]
  },
  {
   "cell_type": "markdown",
   "metadata": {},
   "source": [
    "### Question 8 - Cross-Validation\n",
    "*What is the k-fold cross-validation training technique? What benefit does this technique provide for grid search when optimizing a model?*  \n",
    "**Hint:** Much like the reasoning behind having a testing set, what could go wrong with using grid search without a cross-validated set?"
   ]
  },
  {
   "cell_type": "markdown",
   "metadata": {},
   "source": [
    "k-fold cross validation is seprating the data to k bins, choose the one bin for testing data ,the k-1 bins for training data. the grid search without cross validated set is clunky and takes long time to run."
   ]
  },
  {
   "cell_type": "markdown",
   "metadata": {},
   "source": [
    "### Implementation: Fitting a Model\n",
    "Your final implementation requires that you bring everything together and train a model using the **decision tree algorithm**. To ensure that you are producing an optimized model, you will train the model using the grid search technique to optimize the `'max_depth'` parameter for the decision tree. The `'max_depth'` parameter can be thought of as how many questions the decision tree algorithm is allowed to ask about the data before making a prediction. Decision trees are part of a class of algorithms called *supervised learning algorithms*.\n",
    "\n",
    "For the `fit_model` function in the code cell below, you will need to implement the following:\n",
    "- Use [`DecisionTreeRegressor`](http://scikit-learn.org/stable/modules/generated/sklearn.tree.DecisionTreeRegressor.html) from `sklearn.tree` to create a decision tree regressor object.\n",
    "  - Assign this object to the `'regressor'` variable.\n",
    "- Create a dictionary for `'max_depth'` with the values from 1 to 10, and assign this to the `'params'` variable.\n",
    "- Use [`make_scorer`](http://scikit-learn.org/stable/modules/generated/sklearn.metrics.make_scorer.html) from `sklearn.metrics` to create a scoring function object.\n",
    "  - Pass the `performance_metric` function as a parameter to the object.\n",
    "  - Assign this scoring function to the `'scoring_fnc'` variable.\n",
    "- Use [`GridSearchCV`](http://scikit-learn.org/stable/modules/generated/sklearn.grid_search.GridSearchCV.html) from `sklearn.grid_search` to create a grid search object.\n",
    "  - Pass the variables `'regressor'`, `'params'`, `'scoring_fnc'`, and `'cv_sets'` as parameters to the object. \n",
    "  - Assign the `GridSearchCV` object to the `'grid'` variable."
   ]
  },
  {
   "cell_type": "code",
   "execution_count": 24,
   "metadata": {
    "collapsed": false
   },
   "outputs": [],
   "source": [
    "# TODO: Import 'make_scorer', 'DecisionTreeRegressor', and 'GridSearchCV'\n",
    "\n",
    "def fit_model(X, y):\n",
    "    \"\"\" Performs grid search over the 'max_depth' parameter for a \n",
    "        decision tree regressor trained on the input data [X, y]. \"\"\"\n",
    "    \n",
    "    # Create cross-validation sets from the training data\n",
    "    cv_sets = ShuffleSplit(X.shape[0], n_iter = 10, test_size = 0.20, random_state = 0)\n",
    "\n",
    "    # TODO: Create a decision tree regressor object\n",
    "    from sklearn.tree import DecisionTreeRegressor\n",
    "    regressor = DecisionTreeRegressor(random_state=0)\n",
    "\n",
    "    # TODO: Create a dictionary for the parameter 'max_depth' with a range from 1 to 10\n",
    "    params = {'max_depth':range(1,11)}\n",
    "\n",
    "    # TODO: Transform 'performance_metric' into a scoring function using 'make_scorer' \n",
    "    from sklearn.metrics import fbeta_score, make_scorer\n",
    "    scoring_fnc = make_scorer(performance_metric)\n",
    "\n",
    "    # TODO: Create the grid search object\n",
    "    from sklearn.grid_search import GridSearchCV\n",
    "    grid = GridSearchCV(regressor, param_grid=params,scoring=scoring_fnc)\n",
    "\n",
    "    # Fit the grid search object to the data to compute the optimal model\n",
    "    grid = grid.fit(X, y)\n",
    "\n",
    "    # Return the optimal model after fitting the data\n",
    "    return grid.best_estimator_"
   ]
  },
  {
   "cell_type": "markdown",
   "metadata": {},
   "source": [
    "### Making Predictions\n",
    "Once a model has been trained on a given set of data, it can now be used to make predictions on new sets of input data. In the case of a *decision tree regressor*, the model has learned *what the best questions to ask about the input data are*, and can respond with a prediction for the **target variable**. You can use these predictions to gain information about data where the value of the target variable is unknown — such as data the model was not trained on."
   ]
  },
  {
   "cell_type": "markdown",
   "metadata": {},
   "source": [
    "### Question 9 - Optimal Model\n",
    "_What maximum depth does the optimal model have? How does this result compare to your guess in **Question 6**?_  \n",
    "\n",
    "Run the code block below to fit the decision tree regressor to the training data and produce an optimal model."
   ]
  },
  {
   "cell_type": "code",
   "execution_count": 25,
   "metadata": {
    "collapsed": false,
    "scrolled": true
   },
   "outputs": [
    {
     "name": "stdout",
     "output_type": "stream",
     "text": [
      "98519.2157199\n",
      "14008754594.5\n",
      "97559.8942213\n",
      "15025465825.9\n",
      "120986.538151\n",
      "24216156789.5\n",
      "66136.9255744\n",
      "7084265249.31\n",
      "70265.9292432\n",
      "8220035851.16\n",
      "84486.4657679\n",
      "13006627192.2\n",
      "56151.7857143\n",
      "5582480868.75\n",
      "56664.0440387\n",
      "5525150590.42\n",
      "73081.3015464\n",
      "8642893765.74\n",
      "51134.7049689\n",
      "5075163777.19\n",
      "52730.9732307\n",
      "4883025420.2\n",
      "61138.6466708\n",
      "6720169034.25\n",
      "53703.7411146\n",
      "5345551832.07\n",
      "55080.8886262\n",
      "4955430398.54\n",
      "59280.2331303\n",
      "6316808370.89\n",
      "51832.912574\n",
      "5154284075.82\n",
      "59247.1438834\n",
      "5930709607.44\n",
      "63440.894735\n",
      "7048730961.86\n",
      "54971.7797119\n",
      "5537180353.58\n",
      "56697.6003401\n",
      "5700357039.59\n",
      "66386.7798666\n",
      "7146543349.09\n",
      "56732.304838\n",
      "5779309136.63\n",
      "61550.528757\n",
      "6645046789.55\n",
      "70776.2371134\n",
      "7904286811.08\n",
      "60756.6285031\n",
      "6766252126.01\n",
      "67037.2619048\n",
      "7665826204.17\n",
      "69449.1554322\n",
      "7890412321.89\n",
      "62117.8271309\n",
      "6880851751.97\n",
      "70164.9350649\n",
      "7940572002.41\n",
      "75871.8556701\n",
      "8951477741.24\n",
      "Parameter 'max_depth' is 5 for the optimal model.\n"
     ]
    }
   ],
   "source": [
    "# Fit the training data to the model using grid search\n",
    "reg = fit_model(X_train, y_train)\n",
    "\n",
    "# Produce the value for 'max_depth'\n",
    "print \"Parameter 'max_depth' is {} for the optimal model.\".format(reg.get_params()['max_depth'])"
   ]
  },
  {
   "cell_type": "markdown",
   "metadata": {},
   "source": [
    "**Answer: **"
   ]
  },
  {
   "cell_type": "markdown",
   "metadata": {},
   "source": [
    "### Question 10 - Predicting Selling Prices\n",
    "Imagine that you were a real estate agent in the Boston area looking to use this model to help price homes owned by your clients that they wish to sell. You have collected the following information from three of your clients:\n",
    "\n",
    "| Feature | Client 1 | Client 2 | Client 3 |\n",
    "| :---: | :---: | :---: | :---: |\n",
    "| Total number of rooms in home | 5 rooms | 4 rooms | 8 rooms |\n",
    "| Neighborhood poverty level (as %) | 17% | 32% | 3% |\n",
    "| Student-teacher ratio of nearby schools | 15-to-1 | 22-to-1 | 12-to-1 |\n",
    "*What price would you recommend each client sell his/her home at? Do these prices seem reasonable given the values for the respective features?*  \n",
    "**Hint:** Use the statistics you calculated in the **Data Exploration** section to help justify your response.  \n",
    "\n",
    "Run the code block below to have your optimized model make predictions for each client's home."
   ]
  },
  {
   "cell_type": "code",
   "execution_count": 26,
   "metadata": {
    "collapsed": false
   },
   "outputs": [
    {
     "name": "stdout",
     "output_type": "stream",
     "text": [
      "Predicted selling price for Client 1's home: $411,075.00\n",
      "Predicted selling price for Client 2's home: $172,500.00\n",
      "Predicted selling price for Client 3's home: $856,800.00\n"
     ]
    }
   ],
   "source": [
    "# Produce a matrix for client data\n",
    "client_data = [[5, 17, 15], # Client 1\n",
    "               [4, 32, 22], # Client 2\n",
    "               [8, 3, 12]]  # Client 3\n",
    "\n",
    "# Show predictions\n",
    "for i, price in enumerate(reg.predict(client_data)):\n",
    "    print \"Predicted selling price for Client {}'s home: ${:,.2f}\".format(i+1, price)"
   ]
  },
  {
   "cell_type": "markdown",
   "metadata": {},
   "source": [
    "Predicted selling price for Client 1's home: $411,075.00.\n",
    "Predicted selling price for Client 2's home: $172,500.00.\n",
    "Predicted selling price for Client 3's home: $856,800.00.\n",
    "it seems reasonable, but it should add some price for discount."
   ]
  },
  {
   "cell_type": "markdown",
   "metadata": {},
   "source": [
    "### Sensitivity\n",
    "An optimal model is not necessarily a robust model. Sometimes, a model is either too complex or too simple to sufficiently generalize to new data. Sometimes, a model could use a learning algorithm that is not appropriate for the structure of the data given. Other times, the data itself could be too noisy or contain too few samples to allow a model to adequately capture the target variable — i.e., the model is underfitted. Run the code cell below to run the `fit_model` function ten times with different training and testing sets to see how the prediction for a specific client changes with the data it's trained on."
   ]
  },
  {
   "cell_type": "code",
   "execution_count": 27,
   "metadata": {
    "collapsed": false
   },
   "outputs": [
    {
     "name": "stdout",
     "output_type": "stream",
     "text": [
      "104281.50181\n",
      "20359766755.9\n",
      "100225.748709\n",
      "15029986687.7\n",
      "101562.356798\n",
      "16423291212.8\n",
      "76123.7427301\n",
      "12187569608.1\n",
      "67558.868731\n",
      "7630871485.14\n",
      "78034.9906641\n",
      "10413668400.4\n",
      "60909.0782022\n",
      "7721880479.98\n",
      "55625.5783725\n",
      "5341279531.58\n",
      "64267.6448359\n",
      "7165320121.47\n",
      "59833.4637405\n",
      "7228210546.29\n",
      "56839.6055133\n",
      "5814064384.76\n",
      "60281.9628597\n",
      "6310799173.39\n",
      "57666.374925\n",
      "5725031330.07\n",
      "54198.2994962\n",
      "5506313865.6\n",
      "59190.9113212\n",
      "6399135700.68\n",
      "66326.5306793\n",
      "9857137460.69\n",
      "54479.1158466\n",
      "5500313452.8\n",
      "61953.3269991\n",
      "6567053189.6\n",
      "59054.3237255\n",
      "5917827900.85\n",
      "53387.5024324\n",
      "5513943378.65\n",
      "66301.474727\n",
      "6952402624.66\n",
      "68177.735959\n",
      "10306724249.6\n",
      "57817.1139053\n",
      "6199463366.42\n",
      "65107.9017178\n",
      "6919229894.86\n",
      "60998.7774249\n",
      "6321830947.19\n",
      "58533.25\n",
      "6364766550.53\n",
      "68063.438914\n",
      "7470650142.83\n",
      "68661.8193384\n",
      "9992888688.91\n",
      "59951.724359\n",
      "6591618499.08\n",
      "64959.0944056\n",
      "7131621563.64\n",
      "Trial 1: $411,000.00\n",
      "102509.046\n",
      "18393514862.3\n",
      "105885.906128\n",
      "17963796969.0\n",
      "97854.9160079\n",
      "15754084073.1\n",
      "77999.7110458\n",
      "10572610889.5\n",
      "68063.5874551\n",
      "8904552539.86\n",
      "73152.2151613\n",
      "9204860478.0\n",
      "65363.5895581\n",
      "7296529021.68\n",
      "58233.010086\n",
      "5696622711.33\n",
      "58223.0930049\n",
      "5674969274.0\n",
      "58561.1475532\n",
      "6104907182.83\n",
      "54299.8202828\n",
      "5055897635.94\n",
      "57803.4963923\n",
      "5439372703.19\n",
      "64249.9265863\n",
      "6959198282.72\n",
      "55400.584567\n",
      "5442026016.68\n",
      "59093.5582324\n",
      "5973639389.12\n",
      "61608.9236641\n",
      "6768254618.68\n",
      "57500.6059235\n",
      "5962187211.47\n",
      "58947.2172332\n",
      "5986640006.46\n",
      "60098.6733247\n",
      "6860353704.4\n",
      "59519.5968208\n",
      "6462653723.6\n",
      "60089.2421975\n",
      "6100628357.99\n",
      "60702.6524666\n",
      "6653321079.31\n",
      "61310.4595661\n",
      "6461225857.65\n",
      "65429.1748252\n",
      "7607252521.98\n",
      "64352.9770992\n",
      "7333628277.1\n",
      "60397.0434149\n",
      "6342270064.38\n",
      "68660.7407762\n",
      "8217194475.77\n",
      "66019.0286918\n",
      "7432377172.75\n",
      "61474.0\n",
      "6540514082.31\n",
      "70649.4825175\n",
      "8633492853.8\n",
      "Trial 2: $411,417.39\n",
      "98625.6283519\n",
      "16939837237.2\n",
      "100926.54373\n",
      "17697066788.3\n",
      "104168.530764\n",
      "16310854777.8\n",
      "74628.1060772\n",
      "9386813246.66\n",
      "69552.3146432\n",
      "8476481424.02\n",
      "89946.6006144\n",
      "13603259330.3\n",
      "67206.0476683\n",
      "6976690825.84\n",
      "60757.9397455\n",
      "6180632306.29\n",
      "66207.7322726\n",
      "8035285693.14\n",
      "56848.15891\n",
      "5569705161.38\n",
      "53545.8139488\n",
      "6844948325.38\n",
      "54076.8231074\n",
      "6252845990.16\n",
      "58206.2749037\n",
      "6385511532.89\n",
      "54738.2013179\n",
      "6942940533.42\n",
      "54867.219457\n",
      "6176853554.79\n",
      "60925.8132707\n",
      "6868249086.97\n",
      "58140.8794045\n",
      "8006048892.69\n",
      "58820.6960178\n",
      "6702488290.97\n",
      "64992.7921315\n",
      "7633868402.84\n",
      "62028.4382284\n",
      "9110476085.9\n",
      "61076.4514401\n",
      "7022354855.51\n",
      "66104.8558871\n",
      "7953035145.53\n",
      "63645.3536297\n",
      "9063036234.16\n",
      "64767.4102564\n",
      "7890653498.72\n",
      "63939.7992706\n",
      "7777545311.65\n",
      "68718.260355\n",
      "10139226711.9\n",
      "62359.1183432\n",
      "7193295762.51\n",
      "65884.3060375\n",
      "8293804465.17\n",
      "63424.2051282\n",
      "9383490915.2\n",
      "61614.3333333\n",
      "7045171324.1\n",
      "Trial 3: $415,800.00\n",
      "92957.2353136\n",
      "14903190251.0\n",
      "115546.416748\n",
      "19533967719.2\n",
      "96102.4615385\n",
      "16037364953.3\n",
      "72869.836007\n",
      "9167163119.98\n",
      "73535.9956807\n",
      "8743564897.03\n",
      "72178.8648575\n",
      "9690192840.57\n",
      "65627.4180439\n",
      "7574998369.54\n",
      "58499.6838765\n",
      "5724004202.37\n",
      "63660.4865015\n",
      "7255088121.35\n",
      "56164.5623115\n",
      "6299844103.12\n",
      "54447.8081736\n",
      "5264326782.66\n",
      "55552.1065689\n",
      "6477298377.9\n",
      "56125.9863387\n",
      "6468321940.25\n",
      "53598.0166598\n",
      "5011015357.44\n",
      "55392.541958\n",
      "6378691227.57\n",
      "57258.097829\n",
      "6768876787.94\n",
      "54319.9513956\n",
      "5232397257.35\n",
      "55382.4867124\n",
      "6275718537.13\n",
      "54894.9109415\n",
      "6314251331.99\n",
      "57000.9527972\n",
      "5950142819.24\n",
      "55688.9615385\n",
      "6191996372.08\n",
      "58369.1608666\n",
      "6854460218.58\n",
      "61218.513986\n",
      "6637950962.32\n",
      "57580.9215976\n",
      "6884918658.37\n",
      "55375.0202406\n",
      "6580427355.88\n",
      "62461.3124889\n",
      "6456916573.0\n",
      "59888.9704854\n",
      "7386114339.27\n",
      "60035.5055721\n",
      "7252553369.04\n",
      "60997.1433566\n",
      "6368644477.53\n",
      "60923.4615385\n",
      "7444735854.06\n",
      "Trial 4: $428,316.00\n",
      "98040.910534\n",
      "15959001972.4\n",
      "102913.042735\n",
      "18743844762.7\n",
      "106446.143658\n",
      "18015601868.3\n",
      "71775.7571153\n",
      "8424696168.1\n",
      "78240.9260305\n",
      "11881717712.2\n",
      "72647.1662289\n",
      "9193188310.98\n",
      "55106.7261887\n",
      "5421594746.35\n",
      "66729.398278\n",
      "8342216844.91\n",
      "56184.7549684\n",
      "5969739249.22\n",
      "50339.0136429\n",
      "4529915727.91\n",
      "63226.535911\n",
      "7318235721.06\n",
      "53312.4326652\n",
      "5473106470.6\n",
      "51924.0780556\n",
      "5080768403.75\n",
      "63088.3378754\n",
      "7832130452.79\n",
      "57484.943502\n",
      "6118187390.49\n",
      "54910.846056\n",
      "5121040660.84\n",
      "64371.8836146\n",
      "8023242092.06\n",
      "61670.2100659\n",
      "7158070402.09\n",
      "56351.1000524\n",
      "5590294802.77\n",
      "67887.8795959\n",
      "8839341797.6\n",
      "64836.5234324\n",
      "7788710591.49\n",
      "61120.5898681\n",
      "6431527082.32\n",
      "69659.8550296\n",
      "9585259950.45\n",
      "63690.5588235\n",
      "7521543475.56\n",
      "61351.3931298\n",
      "6824367567.41\n",
      "71062.8251748\n",
      "10118153898.5\n",
      "67857.4314147\n",
      "8258253929.32\n",
      "61436.4885496\n",
      "6716956076.72\n",
      "70550.0341191\n",
      "9893754635.97\n",
      "66803.2205209\n",
      "8293620102.79\n",
      "Trial 5: $413,334.78\n",
      "105561.912415\n",
      "18632316210.4\n",
      "95338.7692308\n",
      "14695966138.5\n",
      "106763.398286\n",
      "17244732796.6\n",
      "72849.3896895\n",
      "10295079403.8\n",
      "67305.3557158\n",
      "7510601056.33\n",
      "78618.3696333\n",
      "10687036120.3\n",
      "59613.3860481\n",
      "6114405029.5\n",
      "58894.9153004\n",
      "6684591587.96\n",
      "66754.2643919\n",
      "7491155705.71\n",
      "56261.494309\n",
      "6124920778.07\n",
      "53247.2240025\n",
      "5787567234.76\n",
      "61704.4193928\n",
      "6674487696.38\n",
      "58092.1802938\n",
      "5758750215.39\n",
      "54325.9174007\n",
      "6150883887.49\n",
      "63862.4720045\n",
      "7160879753.81\n",
      "60515.2474871\n",
      "6919208137.8\n",
      "53743.5981935\n",
      "5898526766.43\n",
      "67499.4514659\n",
      "7809747902.4\n",
      "59501.6811997\n",
      "6002753214.12\n",
      "55854.6158267\n",
      "6642434771.43\n",
      "64870.6729312\n",
      "7475077342.9\n",
      "60021.0233753\n",
      "6404305062.3\n",
      "61509.6599804\n",
      "7506882564.64\n",
      "65754.275641\n",
      "7680264968.7\n",
      "63596.1438816\n",
      "7193681757.04\n",
      "59585.8618881\n",
      "6911290442.46\n",
      "66672.729021\n",
      "8016649413.34\n",
      "62264.792523\n",
      "7101539830.82\n",
      "60896.0512821\n",
      "7050316014.66\n",
      "64812.6025641\n",
      "7584920759.81\n",
      "Trial 6: $411,931.58\n",
      "100964.685998\n",
      "17730606786.4\n",
      "109599.572115\n",
      "18960718117.5\n",
      "100793.739605\n",
      "17632768468.9\n",
      "73470.0691502\n",
      "10104264502.2\n",
      "75922.3990352\n",
      "9858530503.65\n",
      "70649.1905188\n",
      "9685635739.51\n",
      "60629.6491384\n",
      "6240926174.67\n",
      "60212.8216311\n",
      "6845626809.93\n",
      "64415.9539748\n",
      "7701229176.52\n",
      "60595.0239588\n",
      "6697875796.78\n",
      "58551.5938005\n",
      "6500825272.73\n",
      "55717.9906721\n",
      "6178940552.62\n",
      "63565.1032269\n",
      "7793573542.64\n",
      "59470.5671862\n",
      "6702156956.47\n",
      "54005.3119658\n",
      "6149673551.96\n",
      "66641.9051283\n",
      "8446148551.14\n",
      "61372.3625098\n",
      "7319560108.33\n",
      "59394.1725113\n",
      "7122335447.58\n",
      "68848.219833\n",
      "9215385435.62\n",
      "70040.8005153\n",
      "8755356296.26\n",
      "60213.6655161\n",
      "7173536555.37\n",
      "69898.6132316\n",
      "9351887761.48\n",
      "71732.0\n",
      "9495358655.38\n",
      "66184.1007279\n",
      "8255913485.72\n",
      "74574.8192045\n",
      "9979489041.09\n",
      "75404.7140468\n",
      "9834650030.23\n",
      "68314.8544495\n",
      "8834319721.53\n",
      "74468.355598\n",
      "9934554745.47\n",
      "72520.7692308\n",
      "9117264564.1\n",
      "65782.4153846\n",
      "8266841806.82\n",
      "Trial 7: $399,663.16\n",
      "104351.118017\n",
      "19039146564.7\n",
      "101715.620172\n",
      "17500133790.5\n",
      "96391.3876783\n",
      "15128095583.7\n",
      "76706.9851348\n",
      "10627816098.7\n",
      "71229.8768682\n",
      "9496818902.69\n",
      "64286.6589959\n",
      "7224889346.74\n",
      "67482.1105977\n",
      "8288470404.0\n",
      "61845.3971408\n",
      "6800524323.09\n",
      "54071.6305361\n",
      "5003528058.73\n",
      "60089.9685387\n",
      "7296418775.36\n",
      "58408.524564\n",
      "6628198535.76\n",
      "54036.4911971\n",
      "5108067702.4\n",
      "63569.7911529\n",
      "8103067120.22\n",
      "59840.3012721\n",
      "7311490889.61\n",
      "54112.9110772\n",
      "5262032948.28\n",
      "68956.304358\n",
      "9194018648.03\n",
      "63123.6419859\n",
      "7229544619.5\n",
      "55113.9003497\n",
      "5594000827.43\n",
      "70784.5471014\n",
      "9318512614.53\n",
      "71867.8912592\n",
      "9175853805.06\n",
      "60678.606849\n",
      "6072273552.72\n",
      "72058.3620333\n",
      "9417685578.19\n",
      "72868.9079254\n",
      "9486419439.36\n",
      "60335.6140351\n",
      "6207842619.78\n",
      "77586.3373845\n",
      "10604492126.6\n",
      "71975.4230769\n",
      "9127742303.27\n",
      "56703.2307692\n",
      "5780609844.07\n",
      "71212.6844784\n",
      "9247825153.68\n",
      "76261.8653846\n",
      "10092009904.0\n",
      "58010.3461538\n",
      "6291419692.5\n",
      "Trial 8: $407,232.00\n",
      "110341.11728\n",
      "17950002772.2\n",
      "90022.085206\n",
      "11811481384.4\n",
      "100733.836942\n",
      "18677135203.3\n",
      "73844.8994409\n",
      "9218714244.33\n",
      "67205.7325676\n",
      "7429194739.24\n",
      "70218.5230378\n",
      "9350329796.93\n",
      "61698.3823238\n",
      "6539399573.72\n",
      "55039.9431058\n",
      "5164589676.37\n",
      "64461.5038092\n",
      "7032138850.62\n",
      "57627.3901156\n",
      "7201260679.72\n",
      "50232.6030911\n",
      "4407311596.35\n",
      "58760.429371\n",
      "6223882841.11\n",
      "61765.14392\n",
      "7613318111.7\n",
      "57503.0841826\n",
      "6856429877.22\n",
      "59846.673912\n",
      "6752564685.1\n",
      "69031.3696189\n",
      "8826653084.85\n",
      "59444.4853914\n",
      "6839361154.38\n",
      "60504.3211236\n",
      "7175028368.09\n",
      "71149.1512311\n",
      "9383367027.59\n",
      "64746.3857809\n",
      "8109436787.95\n",
      "61998.7367808\n",
      "6809950285.38\n",
      "77566.1228761\n",
      "10666392100.8\n",
      "63656.4903846\n",
      "7654873311.96\n",
      "60648.6282051\n",
      "6914479332.98\n",
      "75114.495936\n",
      "10124461930.8\n",
      "64134.8710407\n",
      "7614035549.78\n",
      "63520.7529586\n",
      "7316330997.1\n",
      "76899.2366412\n",
      "10670503845.5\n",
      "66134.7925408\n",
      "8389615832.71\n",
      "64947.5192308\n",
      "8094850766.49\n",
      "Trial 9: $402,531.82\n",
      "102633.290925\n",
      "15934047717.3\n",
      "102256.263816\n",
      "17084810319.6\n",
      "99362.5619296\n",
      "17537482176.9\n",
      "75700.914899\n",
      "9890952738.43\n",
      "66241.7546419\n",
      "7514801280.79\n",
      "70433.8942308\n",
      "9190840040.05\n",
      "69982.2492031\n",
      "7958846421.13\n",
      "55197.2872002\n",
      "5338411320.48\n",
      "55114.4953027\n",
      "5857530802.38\n",
      "61934.6155245\n",
      "6039094252.85\n",
      "50881.0845973\n",
      "4755868533.79\n",
      "54645.9739107\n",
      "5598767257.93\n",
      "60060.9299098\n",
      "6168191478.66\n",
      "53104.4456945\n",
      "5593485173.13\n",
      "53981.8021978\n",
      "5542543935.35\n",
      "63505.0362751\n",
      "6658439924.49\n",
      "56051.1711595\n",
      "6089945374.32\n",
      "56380.4423077\n",
      "5606973690.01\n",
      "66505.9253252\n",
      "7586658434.24\n",
      "59465.9012821\n",
      "6571921782.33\n",
      "60207.8481781\n",
      "6349981830.98\n",
      "72031.1450382\n",
      "10017613773.6\n",
      "61333.5801282\n",
      "6833027897.39\n",
      "62857.2493836\n",
      "6921521437.8\n",
      "69999.887505\n",
      "8591044950.07\n",
      "65640.6547842\n",
      "7560813577.73\n",
      "64565.9051282\n",
      "7297911540.75\n",
      "71406.5903308\n",
      "8832370309.75\n",
      "63027.7307692\n",
      "7341126602.5\n",
      "66377.3313609\n",
      "7325044046.73\n",
      "Trial 10: $413,700.00\n",
      "\n",
      "Range in prices: $28,652.84\n"
     ]
    }
   ],
   "source": [
    "vs.PredictTrials(features, prices, fit_model, client_data)"
   ]
  },
  {
   "cell_type": "markdown",
   "metadata": {},
   "source": [
    "### Question 11 - Applicability\n",
    "*In a few sentences, discuss whether the constructed model should or should not be used in a real-world setting.*  \n",
    "**Hint:** Some questions to answering:\n",
    "- *How relevant today is data that was collected from 1978?*\n",
    "- *Are the features present in the data sufficient to describe a home?*\n",
    "- *Is the model robust enough to make consistent predictions?*\n",
    "- *Would data collected in an urban city like Boston be applicable in a rural city?*"
   ]
  },
  {
   "cell_type": "markdown",
   "metadata": {},
   "source": [
    "1,this model describe the consideration of houseowner when they want to buy a house, so the data of 1978 is make sense today.\n",
    "2,home has lots of features, the features analying at this model is only the interesting features we care about.\n",
    "3,after doing the r2,MSE,accurency score, we can found the model whether is robust enough. \n",
    "4,the data is only the data, only the model has the question whether be applicable. "
   ]
  }
 ],
 "metadata": {
  "kernelspec": {
   "display_name": "Python [Root]",
   "language": "python",
   "name": "Python [Root]"
  },
  "language_info": {
   "codemirror_mode": {
    "name": "ipython",
    "version": 2
   },
   "file_extension": ".py",
   "mimetype": "text/x-python",
   "name": "python",
   "nbconvert_exporter": "python",
   "pygments_lexer": "ipython2",
   "version": "2.7.12"
  }
 },
 "nbformat": 4,
 "nbformat_minor": 0
}
